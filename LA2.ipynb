{
 "cells": [
  {
   "cell_type": "markdown",
   "metadata": {
    "collapsed": true
   },
   "source": [
    "# Transformations, Eigenvectors, and Eigenvalues\n",
    "\n",
    "Matrices and vectors are used together to manipulate spatial dimensions. This has a lot of applications, including the mathematical generation of 3D computer graphics, geometric modeling, and the training and optimization of machine learning algorithms. We will focus on a few key concepts that are useful to know when you plan to work with machine learning.\n",
    "\n",
    "## Linear Transformations\n",
    "You can manipulate a vector by multiplying it with a matrix. The matrix acts as an operator that maps an input vector to a new vector output. Specifically, matrix multiplications of vectors are _linear transformations_.\n",
    "\n",
    "For example, consider the following matrix ***A*** and vector ***v***:\n",
    "\n",
    "$$ A = \\begin{bmatrix}2 & 3\\\\5 & 2\\end{bmatrix} \\;\\;\\;\\; \\vec{v} = \\begin{bmatrix}1\\\\2\\end{bmatrix}$$\n",
    "\n",
    "We can define an operator ***T*** like this:\n",
    "\n",
    "$$ T(\\vec{v}) = A\\vec{v} $$\n",
    "\n",
    "To perform this transformation, we simply calculate the dot product of the matrix and the vector; multiplying each row of the matrix by the single column of the vector:\n",
    "\n",
    "$$\\begin{bmatrix}2 & 3\\\\5 & 2\\end{bmatrix} \\cdot  \\begin{bmatrix}1\\\\2\\end{bmatrix} = \\begin{bmatrix}8\\\\9\\end{bmatrix}$$\n",
    "\n",
    "Here's the calculation in Python:"
   ]
  },
  {
   "cell_type": "code",
   "execution_count": 49,
   "metadata": {},
   "outputs": [],
   "source": [
    "import numpy as np\n",
    "import matplotlib.pyplot as plt\n",
    "from mpl_toolkits.mplot3d import Axes3D\n",
    "from mpl_toolkits.mplot3d import proj3d\n",
    "from matplotlib.patches import FancyArrowPatch\n",
    "\n",
    "%matplotlib inline"
   ]
  },
  {
   "cell_type": "code",
   "execution_count": 1,
   "metadata": {},
   "outputs": [
    {
     "name": "stdout",
     "output_type": "stream",
     "text": [
      "[8 9]\n"
     ]
    }
   ],
   "source": [
    "v = np.array([1,2])\n",
    "A = np.array([[2,3],\n",
    "              [5,2]])\n",
    "\n",
    "t = A.dot(v)\n",
    "print (t)"
   ]
  },
  {
   "cell_type": "markdown",
   "metadata": {},
   "source": [
    "We could view $T$ as a mapping:\n",
    "\n",
    "$$ T: \\rm I\\!R^{2} \\to \\rm I\\!R^{2} $$\n",
    "\n",
    "Note that the output vector may have a different number of dimensions from the input vector; so the matrix function might transform the vector from one space to another - or in notation, ${\\rm I\\!R}$<sup>n</sup> -> ${\\rm I\\!R}$<sup>m</sup>.\n",
    "\n",
    "For example, let's redefine matrix ***A***, while retaining our original definition of vector ***v***:\n",
    "\n",
    "$$ A = \\begin{bmatrix}2 & 3\\\\5 & 2\\\\1 & 1\\end{bmatrix} \\;\\;\\;\\; \\vec{v} = \\begin{bmatrix}1\\\\2\\end{bmatrix}$$\n",
    "\n",
    "Now if we once again define ***T*** like this:\n",
    "\n",
    "$$ T(\\vec{v}) = A\\vec{v} $$\n",
    "\n",
    "We apply the transformation like this:\n",
    "\n",
    "$$\\begin{bmatrix}2 & 3\\\\5 & 2\\\\1 & 1\\end{bmatrix} \\cdot  \\begin{bmatrix}1\\\\2\\end{bmatrix} = \\begin{bmatrix}8\\\\9\\\\3\\end{bmatrix}$$\n",
    "\n",
    "So now, our transformation transforms the vector from 2-dimensional space to 3-dimensional space:\n",
    "\n",
    "$$ T: \\rm I\\!R^{2} \\to \\rm I\\!R^{3} $$\n",
    "\n",
    "Here it is in Python:"
   ]
  },
  {
   "cell_type": "code",
   "execution_count": 2,
   "metadata": {},
   "outputs": [
    {
     "name": "stdout",
     "output_type": "stream",
     "text": [
      "[8 9 3]\n"
     ]
    }
   ],
   "source": [
    "v = np.array([1,2])\n",
    "A = np.array([[2,3],\n",
    "              [5,2],\n",
    "              [1,1]])\n",
    "\n",
    "t = A.dot(v)\n",
    "print (t)"
   ]
  },
  {
   "cell_type": "code",
   "execution_count": 3,
   "metadata": {},
   "outputs": [
    {
     "name": "stdout",
     "output_type": "stream",
     "text": [
      "[5 4]\n"
     ]
    }
   ],
   "source": [
    "v = np.array([1,2])\n",
    "A = np.array([[1,2],\n",
    "              [2,1]])\n",
    "\n",
    "t = A.dot(v)\n",
    "print (t)"
   ]
  },
  {
   "cell_type": "markdown",
   "metadata": {},
   "source": [
    "## Transformations of Magnitude and Amplitude\n",
    "\n",
    "When you multiply a vector by a matrix, you transform it in at least one of the following two ways:\n",
    "* Scale the _magnitude_ of the vector\n",
    "* Change the _direction_ of the vector\n",
    "\n",
    "For example consider the following matrix and vector:\n",
    "\n",
    "$$ A = \\begin{bmatrix}2 & 0\\\\0 & 2\\end{bmatrix} \\;\\;\\;\\; \\vec{v} = \\begin{bmatrix}1\\\\0\\end{bmatrix}$$\n",
    "\n",
    "As before, we transform the vector ***v*** by multiplying it with the matrix ***A***:\n",
    "\n",
    "\\begin{equation}\\begin{bmatrix}2 & 0\\\\0 & 2\\end{bmatrix} \\cdot  \\begin{bmatrix}1\\\\0\\end{bmatrix} = \\begin{bmatrix}2\\\\0\\end{bmatrix}\\end{equation}\n",
    "\n",
    "In this case, the resulting vector has changed in length (*magnitude*), but has not changed its direction (*amplitude*).\n",
    "\n",
    "Let's visualize that in Python:"
   ]
  },
  {
   "cell_type": "code",
   "execution_count": 4,
   "metadata": {},
   "outputs": [
    {
     "name": "stdout",
     "output_type": "stream",
     "text": [
      "[2 0]\n"
     ]
    },
    {
     "data": {
      "image/png": "[encoded data removed]",
      "text/plain": [
       "<Figure size 432x288 with 1 Axes>"
      ]
     },
     "metadata": {
      "needs_background": "light"
     },
     "output_type": "display_data"
    }
   ],
   "source": [
    "import matplotlib.pyplot as plt\n",
    "\n",
    "%matplotlib inline\n",
    "\n",
    "v = np.array([1,0])\n",
    "A = np.array([[2,0],\n",
    "              [0,2]])\n",
    "\n",
    "t = A.dot(v)\n",
    "print (t)\n",
    "\n",
    "# Plot v and t\n",
    "vecs = np.array([t,v])\n",
    "origin = [0], [0]\n",
    "plt.axis('equal')\n",
    "plt.grid()\n",
    "plt.ticklabel_format(style='sci', axis='both', scilimits=(0,0))\n",
    "plt.quiver(*origin, vecs[:,0], vecs[:,1], color=['blue', 'orange'], scale=10)\n",
    "plt.show()"
   ]
  },
  {
   "cell_type": "markdown",
   "metadata": {},
   "source": [
    "The original vector ***v*** is shown in orange, and the transformed vector ***t*** is shown in blue - note that ***t*** has the same direction (*amplitude*) as ***v*** but a greater length (*magnitude*).\n",
    "\n",
    "Now let's use a different matrix to transform the vector ***v***:\n",
    "\\begin{equation}\\begin{bmatrix}0 & -1\\\\1 & 0\\end{bmatrix} \\cdot  \\begin{bmatrix}1\\\\0\\end{bmatrix} = \\begin{bmatrix}0\\\\1\\end{bmatrix}\\end{equation}\n",
    "\n",
    "This time, the resulting vector has been changed to a different amplitude, but has the same magnitude."
   ]
  },
  {
   "cell_type": "code",
   "execution_count": 5,
   "metadata": {},
   "outputs": [
    {
     "name": "stdout",
     "output_type": "stream",
     "text": [
      "[0 1]\n"
     ]
    },
    {
     "data": {
      "image/png": "[encoded data removed]",
      "text/plain": [
       "<Figure size 432x288 with 1 Axes>"
      ]
     },
     "metadata": {
      "needs_background": "light"
     },
     "output_type": "display_data"
    }
   ],
   "source": [
    "import numpy as np\n",
    "import matplotlib.pyplot as plt\n",
    "%matplotlib inline\n",
    "\n",
    "v = np.array([1,0])\n",
    "A = np.array([[0,-1],\n",
    "              [1,0]])\n",
    "\n",
    "t = A.dot(v)\n",
    "print (t)\n",
    "\n",
    "# Plot v and t\n",
    "vecs = np.array([v,t])\n",
    "origin = [0], [0]\n",
    "plt.axis('equal')\n",
    "plt.grid()\n",
    "plt.ticklabel_format(style='sci', axis='both', scilimits=(0,0))\n",
    "plt.quiver(*origin, vecs[:,0], vecs[:,1], color=['orange', 'blue'], scale=10)\n",
    "plt.show()"
   ]
  },
  {
   "cell_type": "markdown",
   "metadata": {},
   "source": [
    "Now let's see change the matrix one more time:\n",
    "\\begin{equation}\\begin{bmatrix}2 & 1\\\\1 & 2\\end{bmatrix} \\cdot  \\begin{bmatrix}1\\\\0\\end{bmatrix} = \\begin{bmatrix}2\\\\1\\end{bmatrix}\\end{equation}\n",
    "\n",
    "Now our resulting vector has been transformed to a new amplitude *and* magnitude - the transformation has affected both direction and scale."
   ]
  },
  {
   "cell_type": "code",
   "execution_count": 6,
   "metadata": {},
   "outputs": [
    {
     "name": "stdout",
     "output_type": "stream",
     "text": [
      "[2 1]\n"
     ]
    },
    {
     "data": {
      "image/png": "[encoded data removed]",
      "text/plain": [
       "<Figure size 432x288 with 1 Axes>"
      ]
     },
     "metadata": {
      "needs_background": "light"
     },
     "output_type": "display_data"
    }
   ],
   "source": [
    "import numpy as np\n",
    "import matplotlib.pyplot as plt\n",
    "%matplotlib inline\n",
    "\n",
    "v = np.array([1,0])\n",
    "A = np.array([[2,1],\n",
    "              [1,2]])\n",
    "\n",
    "t = A.dot(v)\n",
    "print (t)\n",
    "\n",
    "# Plot v and t\n",
    "vecs = np.array([v,t])\n",
    "origin = [0], [0]\n",
    "plt.axis('equal')\n",
    "plt.grid()\n",
    "plt.ticklabel_format(style='sci', axis='both', scilimits=(0,0))\n",
    "plt.quiver(*origin, vecs[:,0], vecs[:,1], color=['orange', 'blue'], scale=10)\n",
    "plt.show()"
   ]
  },
  {
   "cell_type": "markdown",
   "metadata": {},
   "source": [
    "### Affine Transformations\n",
    "An Affine transformation multiplies a vector by a matrix and adds an offset vector, sometimes referred to as *bias*; like this:\n",
    "\n",
    "$$T(\\vec{v}) = A\\vec{v} + \\vec{b}$$\n",
    "\n",
    "For example:\n",
    "\n",
    "\\begin{equation}\\begin{bmatrix}5 & 2\\\\3 & 1\\end{bmatrix} \\cdot  \\begin{bmatrix}1\\\\1\\end{bmatrix} + \\begin{bmatrix}-2\\\\-6\\end{bmatrix} = \\begin{bmatrix}5\\\\-2\\end{bmatrix}\\end{equation}\n",
    "\n",
    "The affine transformation forms the basis of linear regression, which is a core foundation for machine learning.\n",
    "\n",
    "here's an example of an Affine transformation in Python:"
   ]
  },
  {
   "cell_type": "code",
   "execution_count": 7,
   "metadata": {},
   "outputs": [
    {
     "name": "stdout",
     "output_type": "stream",
     "text": [
      "[ 5 -2]\n"
     ]
    },
    {
     "data": {
      "image/png": "[encoded data removed]",
      "text/plain": [
       "<Figure size 432x288 with 1 Axes>"
      ]
     },
     "metadata": {
      "needs_background": "light"
     },
     "output_type": "display_data"
    }
   ],
   "source": [
    "v = np.array([1,1])\n",
    "A = np.array([[5,2],\n",
    "              [3,1]])\n",
    "b = np.array([-2,-6])\n",
    "\n",
    "t = A.dot(v) + b\n",
    "print (t)\n",
    "\n",
    "# Plot v and t\n",
    "vecs = np.array([v,t])\n",
    "origin = [0], [0]\n",
    "plt.axis('equal')\n",
    "plt.grid()\n",
    "plt.ticklabel_format(style='sci', axis='both', scilimits=(0,0))\n",
    "plt.quiver(*origin, vecs[:,0], vecs[:,1], color=['orange', 'blue'], scale=15)\n",
    "plt.show()"
   ]
  },
  {
   "cell_type": "markdown",
   "metadata": {},
   "source": [
    "## Eigenvectors and Eigenvalues\n",
    "We have seen that matrix can be interpreted as a linear operator which changes its direction or magnitude, or both. Now we look at a specific class of vectors associated with the given matrix such that when multiplied with the matrix, the resulting vector only changes in its magnitude rather than direction.\n",
    "\n",
    "We have seen the following\n",
    "\n",
    "$$\\begin{bmatrix}2 & 0\\\\0 & 2\\end{bmatrix} \\cdot  \\begin{bmatrix}1\\\\0\\end{bmatrix} = \\begin{bmatrix}2\\\\0\\end{bmatrix} = 2 \\times \\begin{bmatrix}1\\\\0\\end{bmatrix}$$\n",
    "\n",
    "The following python performs both of these calculation and shows the results, which are identical."
   ]
  },
  {
   "cell_type": "code",
   "execution_count": 8,
   "metadata": {},
   "outputs": [
    {
     "name": "stdout",
     "output_type": "stream",
     "text": [
      "[2 0]\n",
      "[2 0]\n"
     ]
    },
    {
     "data": {
      "image/png": "[encoded data removed]",
      "text/plain": [
       "<Figure size 432x288 with 1 Axes>"
      ]
     },
     "metadata": {
      "needs_background": "light"
     },
     "output_type": "display_data"
    },
    {
     "data": {
      "image/png": "[encoded data removed]",
      "text/plain": [
       "<Figure size 432x288 with 1 Axes>"
      ]
     },
     "metadata": {
      "needs_background": "light"
     },
     "output_type": "display_data"
    }
   ],
   "source": [
    "import numpy as np\n",
    "import matplotlib.pyplot as plt\n",
    "%matplotlib inline\n",
    "\n",
    "v = np.array([1,0])\n",
    "A = np.array([[2,0],\n",
    "              [0,2]])\n",
    "\n",
    "t1 = A.dot(v)\n",
    "print (t1)\n",
    "t2 = 2*v\n",
    "print (t2)\n",
    "\n",
    "fig = plt.figure()\n",
    "a=fig.add_subplot(1,1,1)\n",
    "# Plot v and t1\n",
    "vecs = np.array([t1,v])\n",
    "origin = [0], [0]\n",
    "plt.axis('equal')\n",
    "plt.grid()\n",
    "plt.ticklabel_format(style='sci', axis='both', scilimits=(0,0))\n",
    "plt.quiver(*origin, vecs[:,0], vecs[:,1], color=['blue', 'orange'], scale=10)\n",
    "plt.show()\n",
    "a=fig.add_subplot(1,2,1)\n",
    "# Plot v and t2\n",
    "vecs = np.array([t2,v])\n",
    "origin = [0], [0]\n",
    "plt.axis('equal')\n",
    "plt.grid()\n",
    "plt.ticklabel_format(style='sci', axis='both', scilimits=(0,0))\n",
    "plt.quiver(*origin, vecs[:,0], vecs[:,1], color=['blue', 'orange'], scale=10)\n",
    "plt.show()"
   ]
  },
  {
   "cell_type": "markdown",
   "metadata": {},
   "source": [
    "In cases like these, where a matrix transformation is the equivelent of a scalar product, the scalar-vector pairs that correspond to the matrix are known respectively as eigenvalues and eigenvectors. We generally denote the eigenvalues using the Greek letter lambda (&lambda;), and the formula that defines eigenvalues and eigenvectors with respect to a transformation is:\n",
    "\n",
    "$$ A\\vec{v} = T(\\vec{v}) = \\lambda\\vec{v}$$\n",
    "\n",
    "Where the vector ***v*** is an eigenvector with its corresponding eigenvalue ***&lambda;*** of the operator (matrix) _T_ as well as the corresponding matrix _A_.\n",
    "\n",
    "A matrix can have multiple eigenvector-eigenvalue pairs, one could compute these manually (via solving the charateristic polynomial). In Python we can use the _numpy.linalg.eig()_ function, which returns an array of eigenvalues and a matrix whose columns are the corresponding eigenvectors.\n",
    "\n",
    "Here's an example that returns the eigenvalue and eigenvector pairs for the following matrix:\n",
    "\n",
    "$$A=\\begin{bmatrix}2 & 0\\\\0 & 3\\end{bmatrix}$$"
   ]
  },
  {
   "cell_type": "code",
   "execution_count": 9,
   "metadata": {},
   "outputs": [
    {
     "name": "stdout",
     "output_type": "stream",
     "text": [
      "[2. 3.]\n",
      "[[1. 0.]\n",
      " [0. 1.]]\n"
     ]
    }
   ],
   "source": [
    "A = np.array([[2,0],\n",
    "              [0,3]])\n",
    "eVals, eVecs = np.linalg.eig(A)\n",
    "print(eVals)\n",
    "print(eVecs)"
   ]
  },
  {
   "cell_type": "markdown",
   "metadata": {},
   "source": [
    "So there are two eigenvalue-eigenvector pairs for this matrix, as shown here:\n",
    "\n",
    "$$ \\lambda_{1} = 2, \\vec{v_{1}} = \\begin{bmatrix}1 \\\\ 0\\end{bmatrix}  \\;\\;\\;\\;\\;\\; \\lambda_{2} = 3, \\vec{v_{2}} = \\begin{bmatrix}0 \\\\ 1\\end{bmatrix} $$\n",
    "\n",
    "Let's verify that multiplying each eigenvalue-eigenvector pair corresponds to the dot-product of the eigenvector and the matrix. Here's the first pair:\n",
    "\n",
    "$$ 2 \\times \\begin{bmatrix}1 \\\\ 0\\end{bmatrix} = \\begin{bmatrix}2 \\\\ 0\\end{bmatrix}  \\;\\;\\;and\\;\\;\\; \\begin{bmatrix}2 & 0\\\\0 & 3\\end{bmatrix} \\cdot \\begin{bmatrix}1 \\\\ 0\\end{bmatrix} = \\begin{bmatrix}2 \\\\ 0\\end{bmatrix} $$\n",
    "\n",
    "So far so good. Now let's check the second pair:\n",
    "\n",
    "$$ 3 \\times \\begin{bmatrix}0 \\\\ 1\\end{bmatrix} = \\begin{bmatrix}0 \\\\ 3\\end{bmatrix}  \\;\\;\\;and\\;\\;\\; \\begin{bmatrix}2 & 0\\\\0 & 3\\end{bmatrix} \\cdot \\begin{bmatrix}0 \\\\ 1\\end{bmatrix} = \\begin{bmatrix}0 \\\\ 3\\end{bmatrix} $$\n",
    "\n",
    "So our eigenvalue-eigenvector scalar multiplications do indeed correspond to our matrix-eigenvector dot-product transformations.\n",
    "\n",
    "We could also check using the following python codes:"
   ]
  },
  {
   "cell_type": "code",
   "execution_count": 10,
   "metadata": {},
   "outputs": [
    {
     "name": "stdout",
     "output_type": "stream",
     "text": [
      "Matrix A:\n",
      "[[2 0]\n",
      " [0 3]]\n",
      "-------\n",
      "lam1: 2.0\n",
      "v1: [1. 0.]\n",
      "Av1: [2. 0.]\n",
      "lam1 x v1: [2. 0.]\n",
      "-------\n",
      "lam2: 3.0\n",
      "v2: [0. 1.]\n",
      "Av2: [0. 3.]\n",
      "lam2 x v2: [0. 3.]\n"
     ]
    }
   ],
   "source": [
    "vec1 = eVecs[:,0]\n",
    "lam1 = eVals[0]\n",
    "\n",
    "print('Matrix A:')\n",
    "print(A)\n",
    "print('-------')\n",
    "\n",
    "print('lam1: ' + str(lam1))\n",
    "print ('v1: ' + str(vec1))\n",
    "print ('Av1: ' + str(A.dot(vec1)))\n",
    "print ('lam1 x v1: ' + str(lam1*vec1))\n",
    "\n",
    "print('-------')\n",
    "\n",
    "vec2 = eVecs[:,1]\n",
    "lam2 = eVals[1]\n",
    "\n",
    "print('lam2: ' + str(lam2))\n",
    "print ('v2: ' + str(vec2))\n",
    "print ('Av2: ' + str(A.dot(vec2)))\n",
    "print ('lam2 x v2: ' + str(lam2*vec2))"
   ]
  },
  {
   "cell_type": "markdown",
   "metadata": {},
   "source": [
    "You can use the following code to visualize these transformations:"
   ]
  },
  {
   "cell_type": "code",
   "execution_count": 11,
   "metadata": {},
   "outputs": [
    {
     "name": "stdout",
     "output_type": "stream",
     "text": [
      "[2. 0.]\n",
      "[0. 3.]\n"
     ]
    },
    {
     "data": {
      "image/png": "[encoded data removed]",
      "text/plain": [
       "<Figure size 432x288 with 1 Axes>"
      ]
     },
     "metadata": {
      "needs_background": "light"
     },
     "output_type": "display_data"
    },
    {
     "data": {
      "image/png": "[encoded data removed]",
      "text/plain": [
       "<Figure size 432x288 with 1 Axes>"
      ]
     },
     "metadata": {
      "needs_background": "light"
     },
     "output_type": "display_data"
    }
   ],
   "source": [
    "t1 = lam1*vec1\n",
    "print (t1)\n",
    "t2 = lam2*vec2\n",
    "print (t2)\n",
    "\n",
    "fig = plt.figure()\n",
    "a=fig.add_subplot(1,1,1)\n",
    "# Plot v and t1\n",
    "vecs = np.array([t1,vec1])\n",
    "origin = [0], [0]\n",
    "plt.axis('equal')\n",
    "plt.grid()\n",
    "plt.ticklabel_format(style='sci', axis='both', scilimits=(0,0))\n",
    "plt.quiver(*origin, vecs[:,0], vecs[:,1], color=['blue', 'orange'], scale=10)\n",
    "plt.show()\n",
    "a=fig.add_subplot(1,2,1)\n",
    "# Plot v and t2\n",
    "vecs = np.array([t2,vec2])\n",
    "origin = [0], [0]\n",
    "plt.axis('equal')\n",
    "plt.grid()\n",
    "plt.ticklabel_format(style='sci', axis='both', scilimits=(0,0))\n",
    "plt.quiver(*origin, vecs[:,0], vecs[:,1], color=['blue', 'orange'], scale=10)\n",
    "plt.show()"
   ]
  },
  {
   "cell_type": "markdown",
   "metadata": {},
   "source": [
    "Let's take a look at one more, slightly more complex example. Here's our matrix:\n",
    "\n",
    "$$\\begin{bmatrix}2 & 1\\\\1 & 2\\end{bmatrix}$$\n",
    "\n",
    "Let's get the eigenvalue and eigenvector pairs:"
   ]
  },
  {
   "cell_type": "code",
   "execution_count": 12,
   "metadata": {},
   "outputs": [
    {
     "name": "stdout",
     "output_type": "stream",
     "text": [
      "[3. 1.]\n",
      "[[ 0.70710678 -0.70710678]\n",
      " [ 0.70710678  0.70710678]]\n"
     ]
    }
   ],
   "source": [
    "A = np.array([[2,1],\n",
    "              [1,2]])\n",
    "\n",
    "eVals, eVecs = np.linalg.eig(A)\n",
    "print(eVals)\n",
    "print(eVecs)"
   ]
  },
  {
   "cell_type": "markdown",
   "metadata": {},
   "source": [
    "This time the eigenvalue-eigenvector pairs are:\n",
    "\n",
    "$$ \\lambda_{1} = 3, \\vec{v_{1}} = \\begin{bmatrix}0.70710678 \\\\ 0.70710678\\end{bmatrix}  \\;\\;\\;\\;\\;\\; \\lambda_{2} = 1, \\vec{v_{2}} = \\begin{bmatrix}-0.70710678 \\\\ 0.70710678\\end{bmatrix} $$\n",
    "\n",
    "So let's check the first pair:\n",
    "\n",
    "$$ 3 \\times \\begin{bmatrix}0.70710678 \\\\ 0.70710678\\end{bmatrix} = \\begin{bmatrix}2.12132034 \\\\ 2.12132034\\end{bmatrix}  \\;\\;\\;and\\;\\;\\; \\begin{bmatrix}2 & 1\\\\0 & 2\\end{bmatrix} \\cdot \\begin{bmatrix}0.70710678 \\\\ 0.70710678\\end{bmatrix} = \\begin{bmatrix}2.12132034 \\\\ 2.12132034\\end{bmatrix} $$\n",
    "\n",
    "Now let's check the second pair:\n",
    "\n",
    "$$ 1 \\times \\begin{bmatrix}-0.70710678 \\\\ 0.70710678\\end{bmatrix} = \\begin{bmatrix}-0.70710678\\\\0.70710678\\end{bmatrix}  \\;\\;\\;and\\;\\;\\; \\begin{bmatrix}2 & 1\\\\1 & 2\\end{bmatrix} \\cdot \\begin{bmatrix}-0.70710678 \\\\ 0.70710678\\end{bmatrix} = \\begin{bmatrix}-0.70710678\\\\0.70710678\\end{bmatrix} $$\n",
    "\n",
    "With more complex examples like this, it's generally easier to do it with Python:"
   ]
  },
  {
   "cell_type": "code",
   "execution_count": 13,
   "metadata": {},
   "outputs": [
    {
     "name": "stdout",
     "output_type": "stream",
     "text": [
      "Matrix A:\n",
      "[[2 1]\n",
      " [1 2]]\n",
      "-------\n",
      "lam1: 3.0\n",
      "v1: [0.70710678 0.70710678]\n",
      "Av1: [2.12132034 2.12132034]\n",
      "lam1 x v1: [2.12132034 2.12132034]\n",
      "-------\n",
      "lam2: 1.0\n",
      "v2: [-0.70710678  0.70710678]\n",
      "Av2: [-0.70710678  0.70710678]\n",
      "lam2 x v2: [-0.70710678  0.70710678]\n"
     ]
    },
    {
     "data": {
      "image/png": "[encoded data removed]",
      "text/plain": [
       "<Figure size 432x288 with 1 Axes>"
      ]
     },
     "metadata": {
      "needs_background": "light"
     },
     "output_type": "display_data"
    },
    {
     "data": {
      "image/png": "[encoded data removed]",
      "text/plain": [
       "<Figure size 432x288 with 1 Axes>"
      ]
     },
     "metadata": {
      "needs_background": "light"
     },
     "output_type": "display_data"
    }
   ],
   "source": [
    "vec1 = eVecs[:,0]\n",
    "lam1 = eVals[0]\n",
    "\n",
    "print('Matrix A:')\n",
    "print(A)\n",
    "print('-------')\n",
    "\n",
    "print('lam1: ' + str(lam1))\n",
    "print ('v1: ' + str(vec1))\n",
    "print ('Av1: ' + str(A.dot(vec1)))\n",
    "print ('lam1 x v1: ' + str(lam1*vec1))\n",
    "\n",
    "print('-------')\n",
    "\n",
    "vec2 = eVecs[:,1]\n",
    "lam2 = eVals[1]\n",
    "\n",
    "print('lam2: ' + str(lam2))\n",
    "print ('v2: ' + str(vec2))\n",
    "print ('Av2: ' + str(A.dot(vec2)))\n",
    "print ('lam2 x v2: ' + str(lam2*vec2))\n",
    "\n",
    "\n",
    "# Plot the results\n",
    "t1 = lam1*vec1\n",
    "t2 = lam2*vec2\n",
    "\n",
    "fig = plt.figure()\n",
    "a=fig.add_subplot(1,1,1)\n",
    "# Plot v and t1\n",
    "vecs = np.array([t1,vec1])\n",
    "origin = [0], [0]\n",
    "plt.axis('equal')\n",
    "plt.grid()\n",
    "plt.ticklabel_format(style='sci', axis='both', scilimits=(0,0))\n",
    "plt.quiver(*origin, vecs[:,0], vecs[:,1], color=['blue', 'orange'], scale=10)\n",
    "plt.show()\n",
    "a=fig.add_subplot(1,2,1)\n",
    "# Plot v and t2\n",
    "vecs = np.array([t2,vec2])\n",
    "origin = [0], [0]\n",
    "plt.axis('equal')\n",
    "plt.grid()\n",
    "plt.ticklabel_format(style='sci', axis='both', scilimits=(0,0))\n",
    "plt.quiver(*origin, vecs[:,0], vecs[:,1], color=['blue', 'orange'], scale=10)\n",
    "plt.show()"
   ]
  },
  {
   "cell_type": "markdown",
   "metadata": {},
   "source": [
    "## Eigendecomposition\n",
    "Note that vectors can exist in any spatial orientation, or *basis*; and the same transformation can be applied in different *bases*.\n",
    "\n",
    "We can decompose a matrix using the following formula:\n",
    "\n",
    "$$A = Q \\Lambda Q^{-1}$$\n",
    "\n",
    "Where ***A*** is a trasformation that can be applied to a vector in its current base, ***Q*** is a matrix of eigenvectors that defines a change of basis, and ***&Lambda;*** is a matrix with eigenvalues on the diagonal that defines the same linear transformation as ***A*** in the base defined by ***Q***.\n",
    "\n",
    "Let's look at these in some more detail. Consider this matrix:\n",
    "\n",
    "$$A=\\begin{bmatrix}3 & 2\\\\1 & 0\\end{bmatrix}$$\n",
    "\n",
    "***Q*** is a matrix in which each column is an eigenvector of ***A***; which as we've seen previously that can be computed using NumPy function:"
   ]
  },
  {
   "cell_type": "code",
   "execution_count": 14,
   "metadata": {},
   "outputs": [
    {
     "name": "stdout",
     "output_type": "stream",
     "text": [
      "[[ 0.96276969 -0.48963374]\n",
      " [ 0.27032301  0.87192821]]\n"
     ]
    }
   ],
   "source": [
    "A = np.array([[3,2],\n",
    "              [1,0]])\n",
    "\n",
    "l, Q = np.linalg.eig(A)\n",
    "print(Q)"
   ]
  },
  {
   "cell_type": "markdown",
   "metadata": {},
   "source": [
    "So for matrix ***A***, ***Q*** is the following matrix:\n",
    "\n",
    "$$Q=\\begin{bmatrix}0.96276969 & -0.48963374\\\\0.27032301 & 0.87192821\\end{bmatrix}$$\n",
    "\n",
    "***&Lambda;*** is a matrix that contains the eigenvalues for ***A*** on the diagonal, with zeros in all other elements; so for a 2x2 matrix, &Lambda; will look like this:\n",
    "\n",
    "$$\\Lambda=\\begin{bmatrix}\\lambda_{1} & 0\\\\0 & \\lambda_{2}\\end{bmatrix}$$\n",
    "\n",
    "So we need to turn the array of eigenvalues computed using _numpy.linalg.eig()_ into a diagonal matrix using _numpy.diag()_:"
   ]
  },
  {
   "cell_type": "code",
   "execution_count": 15,
   "metadata": {},
   "outputs": [
    {
     "name": "stdout",
     "output_type": "stream",
     "text": [
      "[[ 3.56155281  0.        ]\n",
      " [ 0.         -0.56155281]]\n"
     ]
    }
   ],
   "source": [
    "L = np.diag(l)\n",
    "print (L)"
   ]
  },
  {
   "cell_type": "markdown",
   "metadata": {},
   "source": [
    "So ***&Lambda;*** is the following matrix:\n",
    "\n",
    "$$\\Lambda=\\begin{bmatrix}3.56155281 & 0\\\\0 & -0.56155281\\end{bmatrix}$$\n",
    "\n",
    "Now we just need to find ***Q<sup>-1</sup>***, which is the inverse of ***Q***:"
   ]
  },
  {
   "cell_type": "code",
   "execution_count": 16,
   "metadata": {},
   "outputs": [
    {
     "name": "stdout",
     "output_type": "stream",
     "text": [
      "[[ 0.89720673  0.50382896]\n",
      " [-0.27816009  0.99068183]]\n"
     ]
    }
   ],
   "source": [
    "Qinv = np.linalg.inv(Q)\n",
    "print(Qinv)"
   ]
  },
  {
   "cell_type": "markdown",
   "metadata": {},
   "source": [
    "The inverse of ***Q*** then, is:\n",
    "\n",
    "$$Q^{-1}=\\begin{bmatrix}0.89720673 & 0.50382896\\\\-0.27816009 & 0.99068183\\end{bmatrix}$$\n",
    "\n",
    "Using these quantites, we could re-express the linear transformation $A$ using the eigendecomposition as the composition of three separate operators:\n",
    "\n",
    "$$A\\vec{v} = Q \\Lambda Q^{-1}\\vec{v}$$\n",
    "\n",
    "To prove this, let's take any vector ***v***, e.g.,\n",
    "\n",
    "$$\\vec{v} = \\begin{bmatrix}1\\\\3\\end{bmatrix} $$\n",
    "\n",
    "Now we check that the above equations hold using Python.\n",
    "\n",
    "First we check $A\\vec{v}$:"
   ]
  },
  {
   "cell_type": "code",
   "execution_count": 17,
   "metadata": {},
   "outputs": [
    {
     "name": "stdout",
     "output_type": "stream",
     "text": [
      "[9 1]\n"
     ]
    },
    {
     "data": {
      "image/png": "[encoded data removed]",
      "text/plain": [
       "<Figure size 432x288 with 1 Axes>"
      ]
     },
     "metadata": {
      "needs_background": "light"
     },
     "output_type": "display_data"
    }
   ],
   "source": [
    "v = np.array([1,3])\n",
    "t = A.dot(v)\n",
    "\n",
    "print(t)\n",
    "\n",
    "# Plot v and t\n",
    "vecs = np.array([v,t])\n",
    "origin = [0], [0]\n",
    "plt.axis('equal')\n",
    "plt.grid()\n",
    "plt.ticklabel_format(style='sci', axis='both', scilimits=(0,0))\n",
    "plt.quiver(*origin, vecs[:,0], vecs[:,1], color=['orange', 'b'], scale=20)\n",
    "plt.show()"
   ]
  },
  {
   "cell_type": "markdown",
   "metadata": {},
   "source": [
    "And now, we check $Q\\Lambda Q^{-1}\\vec{v}$"
   ]
  },
  {
   "cell_type": "code",
   "execution_count": 18,
   "metadata": {
    "scrolled": true
   },
   "outputs": [
    {
     "data": {
      "image/png": "[encoded data removed]",
      "text/plain": [
       "<Figure size 432x288 with 1 Axes>"
      ]
     },
     "metadata": {
      "needs_background": "light"
     },
     "output_type": "display_data"
    }
   ],
   "source": [
    "import math\n",
    "import numpy as np\n",
    "import matplotlib.pyplot as plt\n",
    "%matplotlib inline\n",
    "\n",
    "t = (Q.dot(L.dot(Qinv))).dot(v)\n",
    "\n",
    "# Plot v and t\n",
    "vecs = np.array([v,t])\n",
    "origin = [0], [0]\n",
    "plt.axis('equal')\n",
    "plt.grid()\n",
    "plt.ticklabel_format(style='sci', axis='both', scilimits=(0,0))\n",
    "plt.quiver(*origin, vecs[:,0], vecs[:,1], color=['orange', 'b'], scale=20)\n",
    "plt.show()"
   ]
  },
  {
   "cell_type": "markdown",
   "metadata": {},
   "source": [
    "So ***A*** and ***Q&Lambda;Q<sup>-1</sup>*** are equivalent.\n",
    "\n",
    "If we view the intermediary stages of the decomposed transformation, you can see the transformation using ***A*** in the original base for ***v*** (orange to blue) and the transformation using ***&Lambda;*** in the change of basis decribed by ***Q*** (red to magenta):"
   ]
  },
  {
   "cell_type": "code",
   "execution_count": 19,
   "metadata": {},
   "outputs": [
    {
     "data": {
      "image/png": "[encoded data removed]",
      "text/plain": [
       "<Figure size 432x288 with 1 Axes>"
      ]
     },
     "metadata": {
      "needs_background": "light"
     },
     "output_type": "display_data"
    }
   ],
   "source": [
    "t1 = Qinv.dot(v)\n",
    "t2 = L.dot(t1)\n",
    "t3 = Q.dot(t2)\n",
    "\n",
    "# Plot the transformations\n",
    "vecs = np.array([v,t1, t2, t3])\n",
    "origin = [0], [0]\n",
    "plt.axis('equal')\n",
    "plt.grid()\n",
    "plt.ticklabel_format(style='sci', axis='both', scilimits=(0,0))\n",
    "plt.quiver(*origin, vecs[:,0], vecs[:,1], color=['orange', 'red', 'magenta', 'blue'], scale=20)\n",
    "plt.show()"
   ]
  },
  {
   "cell_type": "markdown",
   "metadata": {},
   "source": [
    "## Inverse of a Square Full Rank Matrix\n",
    "You can calculate the inverse of a square full rank matrix by using its eigendecomposition:\n",
    "\n",
    "$$A^{-1} = Q \\Lambda^{-1} Q^{-1}$$\n",
    "\n",
    "Let's apply this to matrix ***A***:\n",
    "\n",
    "$$A=\\begin{bmatrix}1 & 2\\\\4 & 3\\end{bmatrix}$$\n",
    "\n",
    "Let's find the matrices for ***Q***, ***&Lambda;<sup>-1</sup>***, and ***Q<sup>-1</sup>***:"
   ]
  },
  {
   "cell_type": "code",
   "execution_count": 20,
   "metadata": {},
   "outputs": [
    {
     "name": "stdout",
     "output_type": "stream",
     "text": [
      "[[-0.70710678 -0.4472136 ]\n",
      " [ 0.70710678 -0.89442719]]\n",
      "[[-1.  -0. ]\n",
      " [ 0.   0.2]]\n",
      "[[-0.94280904  0.47140452]\n",
      " [-0.74535599 -0.74535599]]\n"
     ]
    }
   ],
   "source": [
    "A = np.array([[1,2],\n",
    "              [4,3]])\n",
    "\n",
    "l, Q = np.linalg.eig(A)\n",
    "L = np.diag(l)\n",
    "print(Q)\n",
    "Linv = np.linalg.inv(L)\n",
    "Qinv = np.linalg.inv(Q)\n",
    "print(Linv)\n",
    "print(Qinv)"
   ]
  },
  {
   "cell_type": "markdown",
   "metadata": {},
   "source": [
    "So:\n",
    "\n",
    "$$A^{-1}=\\begin{bmatrix}-0.70710678 & -0.4472136\\\\0.70710678 & -0.89442719\\end{bmatrix}\\cdot\\begin{bmatrix}-1 & -0\\\\0 & 0.2\\end{bmatrix}\\cdot\\begin{bmatrix}-0.94280904 & 0.47140452\\\\-0.74535599 & -0.74535599\\end{bmatrix}$$\n",
    "\n",
    "Let's calculate that in Python:"
   ]
  },
  {
   "cell_type": "code",
   "execution_count": 24,
   "metadata": {},
   "outputs": [
    {
     "name": "stdout",
     "output_type": "stream",
     "text": [
      "[[-0.6  0.4]\n",
      " [ 0.8 -0.2]]\n"
     ]
    }
   ],
   "source": [
    "Ainv = (Q.dot(Linv.dot(Qinv)))\n",
    "print(Ainv)"
   ]
  },
  {
   "cell_type": "markdown",
   "metadata": {},
   "source": [
    "That gives us the result:\n",
    "\n",
    "$$A^{-1}=\\begin{bmatrix}-0.6 & 0.4\\\\0.8 & -0.2\\end{bmatrix}$$\n",
    "\n",
    "We can apply the _np.linalg.inv()_ function directly to ***A*** to verify this:"
   ]
  },
  {
   "cell_type": "code",
   "execution_count": 22,
   "metadata": {},
   "outputs": [
    {
     "name": "stdout",
     "output_type": "stream",
     "text": [
      "[[-0.6  0.4]\n",
      " [ 0.8 -0.2]]\n"
     ]
    }
   ],
   "source": [
    "print(np.linalg.inv(A))"
   ]
  },
  {
   "cell_type": "markdown",
   "metadata": {},
   "source": [
    "# Application: Principal Component Analysis\n",
    "\n",
    "PCA is an unsupervised learning algorithm for dimensionality reduction and is also commonly used for feature reduction. Assuming the data $\\{x_{i}\\in\\mathbb{R}^m| i = 1, \\dots, n\\}$ have zero mean, the goal is to find an orthogonal set consisting of $n$ vectors whose directions correspond to the top $n$ greatest variances respectively. Equivalently, we define the top $n$ principal components as the first $n$ eigenvectors (ranked by the corresponding eigenvalues) of the covariance matrix $S$ defined as:\n",
    "\\begin{equation} S = XX^T\\end{equation}\n",
    "where $X\\in \\mathbb{R}^{n\\times m}$ is the data matrix whose $i$-th column is $x_{i}$. We will assume it is true for now. "
   ]
  },
  {
   "cell_type": "code",
   "execution_count": 44,
   "metadata": {},
   "outputs": [],
   "source": [
    "def PCA(X, num):\n",
    "    '''\n",
    "    X: data matrix of shape n x m, with each column as a (m-dimensional) data point \n",
    "    num: number of principal components\n",
    "    Return: \n",
    "    P: a matrix of shape m x num with its i-th column as the i-th principal component\n",
    "    '''\n",
    "    P = None\n",
    "    # TODO: compute the first num principal components and store them in P\n",
    "    # Hint: do not forget to subtract the sample mean!\n",
    "    return P"
   ]
  },
  {
   "cell_type": "code",
   "execution_count": 51,
   "metadata": {},
   "outputs": [],
   "source": [
    "# creating the data\n",
    "np.random.seed(2020)\n",
    "mu1 = np.array([0, 0, 0])\n",
    "cov1 = np.array([[1, 0, 0], [0, 1, 0], [0, 0, 1]])\n",
    "sample_1 = np.random.multivariate_normal(mu1, cov1, 50)"
   ]
  },
  {
   "cell_type": "code",
   "execution_count": 53,
   "metadata": {},
   "outputs": [
    {
     "data": {
      "text/plain": [
       "[<mpl_toolkits.mplot3d.art3d.Line3D at 0x7f59bd9acd50>]"
      ]
     },
     "execution_count": 53,
     "metadata": {},
     "output_type": "execute_result"
    },
    {
     "data": {
      "image/png": "[encoded data removed]",
      "text/plain": [
       "<Figure size 576x576 with 1 Axes>"
      ]
     },
     "metadata": {
      "needs_background": "light"
     },
     "output_type": "display_data"
    }
   ],
   "source": [
    "fig = plt.figure(figsize=(8,8))\n",
    "ax = fig.add_subplot(111, projection='3d')\n",
    "plt.rcParams['legend.fontsize'] = 10   \n",
    "ax.plot(sample_1[:, 0], sample_1[:, 1], sample_1[:, 2], 'o', markersize=8, color='blue', alpha=0.5, label='class1')\n",
    "# ax.plot(sample_2[0,:], sample_2[1,:], sample_2[2,:], '^', markersize=8, alpha=0.5, color='red', label='class2')"
   ]
  },
  {
   "cell_type": "code",
   "execution_count": 54,
   "metadata": {},
   "outputs": [],
   "source": [
    "class Arrow3D(FancyArrowPatch):\n",
    "    def __init__(self, xs, ys, zs, *args, **kwargs):\n",
    "        FancyArrowPatch.__init__(self, (0,0), (0,0), *args, **kwargs)\n",
    "        self._verts3d = xs, ys, zs\n",
    "\n",
    "    def draw(self, renderer):\n",
    "        xs3d, ys3d, zs3d = self._verts3d\n",
    "        xs, ys, zs = proj3d.proj_transform(xs3d, ys3d, zs3d, renderer.M)\n",
    "        self.set_positions((xs[0],ys[0]),(xs[1],ys[1]))\n",
    "        FancyArrowPatch.draw(self, renderer)"
   ]
  },
  {
   "cell_type": "code",
   "execution_count": 55,
   "metadata": {},
   "outputs": [],
   "source": [
    "def plotPCA(X, P):\n",
    "    fig = plt.figure(figsize=(8, 8))\n",
    "    ax = fig.add_subplot(111, projection='3d')\n",
    "    ax.plot(X[:, 0], X[:, 1], X[:, 2], 'o', markersize=9, color='green', alpha=0.2)\n",
    "    ax.ploy(np.mean(X[:, 0]), np.mean(X[:, 1]), np.mean(X[:, 2]), 'p', markersize=10, color='red', alpha=0.5)\n",
    "    for i in range(P.shape[1]):\n",
    "        a = Arrow3D([np.mean(X[:, 0]), P[0, i]], [np.mean(X[:, 1]), P[1, i]], [np.mean(X[:, 2]), P[2, i]], \n",
    "                   mutation_sacle=20, lw=3, arrowstyle='-|>', color='r')\n",
    "        ax.add_artist(a)\n",
    "    plt.show()"
   ]
  },
  {
   "cell_type": "markdown",
   "metadata": {},
   "source": [
    "## TODO: using your PCA() function to generate the first 3 principal components of the data sample_1, then visualise your computed principal components using the plotPCA() function provided"
   ]
  },
  {
   "cell_type": "code",
   "execution_count": null,
   "metadata": {},
   "outputs": [],
   "source": []
  }
 ],
 "metadata": {
  "kernelspec": {
   "display_name": "Python 3",
   "language": "python",
   "name": "python3"
  },
  "language_info": {
   "codemirror_mode": {
    "name": "ipython",
    "version": 3
   },
   "file_extension": ".py",
   "mimetype": "text/x-python",
   "name": "python",
   "nbconvert_exporter": "python",
   "pygments_lexer": "ipython3",
   "version": "3.7.5"
  }
 },
 "nbformat": 4,
 "nbformat_minor": 2
}
