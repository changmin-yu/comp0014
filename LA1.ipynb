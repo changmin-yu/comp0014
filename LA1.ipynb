{
 "cells": [
  {
   "cell_type": "markdown",
   "metadata": {},
   "source": [
    "# Linear Algebra I"
   ]
  },
  {
   "cell_type": "markdown",
   "metadata": {},
   "source": [
    "In this notebook, we look at some of the fundamental definitions and properties in linear algebra, and implementations in Python and NumPy."
   ]
  },
  {
   "cell_type": "markdown",
   "metadata": {},
   "source": [
    "Let us firstly import some useful libraries..."
   ]
  },
  {
   "cell_type": "code",
   "execution_count": 8,
   "metadata": {},
   "outputs": [],
   "source": [
    "import numpy as np\n",
    "import matplotlib.pyplot as plt\n",
    "\n",
    "%matplotlib inline"
   ]
  },
  {
   "cell_type": "markdown",
   "metadata": {},
   "source": [
    "## Basic properties"
   ]
  },
  {
   "cell_type": "markdown",
   "metadata": {},
   "source": [
    "Vectors and Matrices are two of the most basic and important objects in linear algebra. In most common vector spaces $V$ over some field such as $\\mathbb{R}^n$ and $\\mathbb{C}^n$, a vector $\\vec{v}\\in V$ can be viewed as an element in the vector space, and a matrix $A$ can be viewed as an operator which transforms a vectors $\\vec{v}\\in V$ to $A\\vec{v}\\in V$. Say $V$ is $\\mathbb{C}^n$, then $\\vec{v}\\in \\mathbb{C}^{n}$ is an $n$-dimensional vector, or an $n\\times 1$-dimensional array (tensor), and a matrix $A\\in \\mathbb{C}^{n\\times n}$ is an $n\\times n$-dimensional array (tensor).\n",
    "\n",
    "Now we look at some of the most fundamental properties and definitions:\n",
    "### Transpose\n",
    "The transpose of a matrix $A\\in \\mathbb{C}^{n\\times m}$ is denoted as $A^T\\in \\mathbb{C}^{m\\times n}$, can be viewed as the reflection of the matrix $A$ along its diagonal, such that \n",
    "    \\begin{equation}A^T_{ij} = A_{ji}\\end{equation}\n",
    "The same applies to vectors. In NumPy, this can be done using function _numpy.transpose()_, or simply _A.T_ where $A$ is a NumPy array.\n",
    "\n",
    "### Identity\n",
    "The identity matrix is a matrix $I\\in\\mathbb{C}^{n\\times n}$ such that $I_{ij} = \\delta_{ij}$ where $\\delta$ represents the Dirac delta. An $n\\times n$ identity matrix can be created using _numpy.eye()_ function.\n",
    "\n",
    "### Matrix inverse\n",
    "For a square matrix $A\\in \\mathbb{C}^{n\\times n}$, its matrix inverse, $A^{-1}\\in\\mathbb{C}^{n\\times n}$ is also a square matrix such that\n",
    "    \\begin{equation} AA^{-1} = A^{-1}A = I\\end{equation}\n",
    "One can use _numpy.linalg.inv()_ function for computing the inverse of a square matrix.\n",
    "\n",
    "Note that computing matrix inverses is in general a difficult task, which can be numerically unstable and computationally expensive. \n",
    "\n",
    "### Creating a vector\n",
    "\n",
    "In Python, they are represented using arrays. For instance, say we have two vectors $\\vec{v}$ and $\\vec{s}$, defined as:\n",
    "\\begin{equation}\\vec{v} = \\begin{bmatrix}2 \\\\ 1 \\end{bmatrix}\\end{equation}\n",
    "\\begin{equation}\\vec{s} = \\begin{bmatrix}-3 \\\\ 2 \\end{bmatrix}\\end{equation}\n",
    "\n",
    "Run the cell below to create and visualise vectors $\\vec{v}$ and $\\vec{s}$:"
   ]
  },
  {
   "cell_type": "code",
   "execution_count": 1,
   "metadata": {
    "scrolled": false
   },
   "outputs": [
    {
     "name": "stdout",
     "output_type": "stream",
     "text": [
      "[-3  2]\n"
     ]
    },
    {
     "data": {
      "image/png": "[encoded data removed]",
      "text/plain": [
       "<Figure size 432x288 with 1 Axes>"
      ]
     },
     "metadata": {
      "needs_background": "light"
     },
     "output_type": "display_data"
    }
   ],
   "source": [
    "v = np.array([2,1])\n",
    "s = np.array([-3,2])\n",
    "print (s)\n",
    "\n",
    "# Plot v and s\n",
    "vecs = np.array([v,s])\n",
    "origin = [0], [0]\n",
    "plt.axis('equal')\n",
    "plt.grid()\n",
    "plt.ticklabel_format(style='sci', axis='both', scilimits=(0,0))\n",
    "plt.quiver(*origin, vecs[:,0], vecs[:,1], color=['r', 'b'], scale=10)\n",
    "plt.show()"
   ]
  },
  {
   "cell_type": "markdown",
   "metadata": {},
   "source": [
    "One of the most basic thing we could do is vector addition\n",
    "\\begin{equation}\\vec{z} = \\vec{v}+\\vec{s} = \\begin{bmatrix}-1 \\\\ 3 \\end{bmatrix}\\end{equation}\n",
    "Let us verify that Python gives the same results:"
   ]
  },
  {
   "cell_type": "code",
   "execution_count": 5,
   "metadata": {
    "scrolled": true
   },
   "outputs": [
    {
     "name": "stdout",
     "output_type": "stream",
     "text": [
      "[-1  3]\n"
     ]
    },
    {
     "data": {
      "image/png": "[encoded data removed]",
      "text/plain": [
       "<Figure size 432x288 with 1 Axes>"
      ]
     },
     "metadata": {
      "needs_background": "light"
     },
     "output_type": "display_data"
    }
   ],
   "source": [
    "z = v + s\n",
    "print(z)\n",
    "vecs = np.array([v,s,z])\n",
    "origin = [0], [0]\n",
    "plt.axis('equal')\n",
    "plt.grid()\n",
    "plt.ticklabel_format(style='sci', axis='both', scilimits=(0,0))\n",
    "plt.quiver(*origin, vecs[:,0], vecs[:,1], color=['r', 'b', 'g'], scale=10)\n",
    "plt.show()"
   ]
  },
  {
   "cell_type": "markdown",
   "metadata": {},
   "source": [
    "## Vector multiplication"
   ]
  },
  {
   "cell_type": "markdown",
   "metadata": {},
   "source": [
    "Three types of vector multiplication exist\n",
    "- Scalar multiplication\n",
    "- Dot product\n",
    "- Cross product\n",
    "\n",
    "### Scalar multiplication\n",
    "Multiplying a vector by a scalar, which is equivalent to multiply each component of the vector by the same scalar. Assume that we have a vector $\\vec{v} = \\begin{bmatrix} v_{1}\\\\v_{2}\\end{bmatrix} \\in \\mathbb{C}^2$. Then multiplying $\\vec{v}$ by a scalar $\\lambda \\in \\mathbb{C}$ we have\n",
    "\\begin{equation} \\lambda\\vec{v} = \\lambda\\begin{bmatrix} v_{1}\\\\v_{2}\\end{bmatrix} = \\begin{bmatrix} \\lambda v_{1}\\\\\\lambda v_{2}\\end{bmatrix}\\end{equation}\n",
    "Note that division is equivalent to the scalar multiplication with the reciprocal of the divisor, this is allowed since $\\mathbb{C}$ is a field, and cannot be done if $\\vec{v}\\in\\mathbb{Z}^{n}$.\n",
    "\n",
    "### Dot product\n",
    "In vector spaces, this is also known as inner product, which takes in two vectors in $\\mathbb{F}^n$ ($\\mathbb{F}$ can be $\\mathbb{C}, \\mathbb{R}, \\dots$), and return a scalar in $\\mathbb{F}$ as following\n",
    "\\begin{equation} \\vec{v}\\cdot\\vec{w} = \\langle v, w \\rangle = \\vec{v}^T\\vec{w} = \\sum_{i=1}^{n}v_{i}w_{i}\\end{equation}\n",
    "In NumPy, dot product can be implemented using numpy.dot() function (note that in Python 3.5 or later, one can use the @ operator for computing the dot product). \n",
    "\n",
    "Run the following cell and verify it with your own working of the dot product."
   ]
  },
  {
   "cell_type": "code",
   "execution_count": 9,
   "metadata": {},
   "outputs": [
    {
     "name": "stdout",
     "output_type": "stream",
     "text": [
      "-4\n"
     ]
    }
   ],
   "source": [
    "v = np.array([2,1])\n",
    "s = np.array([-3,2])\n",
    "d = np.dot(v,s)\n",
    "print (d)"
   ]
  },
  {
   "cell_type": "markdown",
   "metadata": {},
   "source": [
    "Note that geometrically, we could interpret dot product as the length of the projection of one vector onto another, i.e., we could write the dot products as:\n",
    "\n",
    "$$ \\vec{v} \\cdot \\vec{s} = \\|\\vec{v} \\|\\|\\vec{s}\\| \\cos (\\theta) $$ \n",
    "\n",
    "Proof is simple and omitted at this instance."
   ]
  },
  {
   "cell_type": "markdown",
   "metadata": {},
   "source": [
    "### Cross product\n",
    "Cross product of $\\vec{v}$ and $\\vec{s}$ can be interpreted as finding a vector $\\vec{w}$ such that $\\vec{w}$ is perpendicular to the two vectors. Hence naturally this can only be done in vector spaces with three or more dimensions. Cross product can be implemented using _numpy.cross()_ function."
   ]
  },
  {
   "cell_type": "markdown",
   "metadata": {},
   "source": [
    "## Matrices\n",
    "We could create a matrix instance similar to creating a vector in NumPy, by creating a two-dimensional NumPy array as following:"
   ]
  },
  {
   "cell_type": "code",
   "execution_count": 10,
   "metadata": {},
   "outputs": [
    {
     "name": "stdout",
     "output_type": "stream",
     "text": [
      "[[1 2 3]\n",
      " [4 5 6]]\n"
     ]
    }
   ],
   "source": [
    "A = np.array([[1,2,3],\n",
    "              [4,5,6]])\n",
    "print (A)"
   ]
  },
  {
   "cell_type": "markdown",
   "metadata": {},
   "source": [
    "One can also use _numpy.matrix()_ to create a matrix as following"
   ]
  },
  {
   "cell_type": "code",
   "execution_count": 11,
   "metadata": {
    "scrolled": true
   },
   "outputs": [
    {
     "name": "stdout",
     "output_type": "stream",
     "text": [
      "[[1 2 3]\n",
      " [4 5 6]]\n"
     ]
    }
   ],
   "source": [
    "M = np.matrix([[1,2,3],\n",
    "               [4,5,6]])\n",
    "print (M)"
   ]
  },
  {
   "cell_type": "markdown",
   "metadata": {},
   "source": [
    "Both methods are valid for creating the matrix instance, but there are differences in terms of multiplications. In general, most people prefer array object.\n",
    "\n",
    "Addition, scalar multiplication and dot product can be easily generalised to matrices. Note that disagreement in matrix (or vector) dimensions in matrix (or vector) operations is one of the most common issues that causes bugs, so one should be extremely careful with these!"
   ]
  },
  {
   "cell_type": "markdown",
   "metadata": {},
   "source": [
    "## Solving linear systems\n",
    "Note that before we talked about matrix inverses, now we show a simply example of using matrix inverses for solving linear systems.\n",
    "\n",
    "Consider the following system of equations:\n",
    "\n",
    "\\begin{equation}2x + 4y = 18\\end{equation}\n",
    "\\begin{equation}6x + 2y = 34\\end{equation}\n",
    "\n",
    "We can write this in matrix form, like this:\n",
    "\n",
    "\\begin{equation}\\begin{bmatrix}2 & 4\\\\6 & 2\\end{bmatrix} \\cdot \\begin{bmatrix}x\\\\y\\end{bmatrix}=\\begin{bmatrix}18\\\\34\\end{bmatrix}\\qquad (1)\\end{equation}\n",
    "\n",
    "It is clear that this represents the original equations:\n",
    "\n",
    "\\begin{equation}\\begin{bmatrix}2x + 4y\\\\6x + 2y\\end{bmatrix} =\\begin{bmatrix}18\\\\34\\end{bmatrix}\\end{equation}\n",
    "\n",
    "We denote (1) as \n",
    "$$ Ax = y$$\n",
    "Then we could easily solve the system of linear equations with\n",
    "$$x = A^{-1}y$$\n",
    "\n",
    "Run the following code and verify with your own working of the system of equations"
   ]
  },
  {
   "cell_type": "code",
   "execution_count": 12,
   "metadata": {},
   "outputs": [
    {
     "name": "stdout",
     "output_type": "stream",
     "text": [
      "[[5.]\n",
      " [2.]]\n"
     ]
    }
   ],
   "source": [
    "A = np.array([[2,4],\n",
    "              [6,2]])\n",
    "\n",
    "B = np.array([[18],\n",
    "              [34]])\n",
    "\n",
    "C = np.linalg.inv(A) @ B\n",
    "\n",
    "print(C)"
   ]
  },
  {
   "cell_type": "markdown",
   "metadata": {},
   "source": [
    "## Matrix determinant\n",
    "Determinant is a scalar value computed from the elements of a square matrix. For an $n\\times n$ matrix $A$, the general formula for computing its determinant is\n",
    "$$\\text{det}(A) = \\sum_{\\sigma\\in S_{n}}\\left(\\text{sgn}(\\sigma)\\prod_{i=1}^{n}a_{i, \\sigma(i)}\\right)$$\n",
    "The determinant is commonly denoted using $|A|$. In its simplest form, e.g., when $A\\in\\mathbb{C}^{2\\times 2}$, we could compute its transpose via\n",
    "$$|A| = \\left|\\begin{bmatrix} a &b\\\\c &d\\end{bmatrix}\\right| = ad-bc$$\n",
    "\n",
    "Determinant is used throughout linear algebra, for instance, one can determine is an operator (matrix) is singular by simply looking at its determinant; determinant is used for determining the charateristic polynomial of a matrix for computing its eigenvalues; geometrically, determinant represents the signed volume of the $n$-diemensional parallelepipeds spanned by its column (or row) space."
   ]
  },
  {
   "cell_type": "markdown",
   "metadata": {},
   "source": [
    "## Vector norms"
   ]
  },
  {
   "cell_type": "markdown",
   "metadata": {},
   "source": [
    "The conventional Euclidean norm is\n",
    "\n",
    "$$\n",
    "\\|\\boldsymbol{x} \\|_{2} = \\left( \\sum_{i=1}^{n} |x_{i}|^{2} \\right)^{1/2}\n",
    "$$ \n",
    "\n",
    "The $l_{p}$-norm,of a vector $\\boldsymbol{x} \\in \\mathbb{C}^{n}$ is \n",
    "\n",
    "$$\n",
    "\\| \\boldsymbol{x} \\|_{p} = \\left( \\sum_{i=1}^{n} |x_{i}|^{p} \\right)^{1/p}\n",
    "$$\n",
    "\n",
    "Recall that when $p = \\infty$, we have have the maxiumum norm:\n",
    "\n",
    "$$\n",
    "\\| \\boldsymbol{x} \\|_{\\infty} = \\max(|x_{1}|, \\ldots , |x_{n}|)\n",
    "$$\n",
    "\n",
    "\n",
    "\n",
    "NumPy can compute $l_{p}$ norms of vectors. To see how, we first import NumPy and create a random vectors of length 10:"
   ]
  },
  {
   "cell_type": "code",
   "execution_count": 1,
   "metadata": {},
   "outputs": [
    {
     "name": "stdout",
     "output_type": "stream",
     "text": [
      "[0.4359949 +0.62113383j 0.02592623+0.52914209j 0.54966248+0.13457995j\n",
      " 0.43532239+0.51357812j 0.4203678 +0.18443987j 0.33033482+0.78533515j\n",
      " 0.20464863+0.85397529j 0.61927097+0.49423684j 0.29965467+0.84656149j\n",
      " 0.26682728+0.07964548j]\n"
     ]
    }
   ],
   "source": [
    "import numpy as np\n",
    "np.random.seed(2)\n",
    "\n",
    "x = np.random.rand(10) + 1j*np.random.rand(10)\n",
    "print(x)"
   ]
  },
  {
   "cell_type": "markdown",
   "metadata": {},
   "source": [
    "We can now compute a number of $l_{p}$ norms of $\\boldsymbol{x}$:"
   ]
  },
  {
   "cell_type": "code",
   "execution_count": 2,
   "metadata": {},
   "outputs": [
    {
     "name": "stdout",
     "output_type": "stream",
     "text": [
      "The l_1 norm of x is: 6.685801095190599\n",
      "The l_2 norm of x is: 2.202178795407456\n",
      "The l_3 norm of x is: 1.547749584847131\n",
      "The l_4 norm of x is: 1.3088747768586464\n"
     ]
    }
   ],
   "source": [
    "for p in range(1, 5):\n",
    "    x_norm = np.linalg.norm(x, p)\n",
    "    print(\"The l_{} norm of x is: {}\".format(p, x_norm))"
   ]
  },
  {
   "cell_type": "markdown",
   "metadata": {},
   "source": [
    "For the $l_{\\infty}$ norm:"
   ]
  },
  {
   "cell_type": "code",
   "execution_count": 3,
   "metadata": {},
   "outputs": [
    {
     "name": "stdout",
     "output_type": "stream",
     "text": [
      "The max norm of x is: 0.8980307744980834\n"
     ]
    }
   ],
   "source": [
    " x_inf = np.linalg.norm(x, np.inf)\n",
    "print(\"The max norm of x is: {}\".format(x_inf))"
   ]
  },
  {
   "cell_type": "markdown",
   "metadata": {},
   "source": [
    "## Matrix norms"
   ]
  },
  {
   "cell_type": "markdown",
   "metadata": {},
   "source": [
    "Norms of matrices can also be computed. The more interesting (and abstract) norms are *operator* norms. These are also known as *induced* norms."
   ]
  },
  {
   "cell_type": "markdown",
   "metadata": {},
   "source": [
    "### Operator norms"
   ]
  },
  {
   "cell_type": "markdown",
   "metadata": {},
   "source": [
    "For an $n \\times n$ matrix $\\boldsymbol{A}$, the norm of the matrix is a measure of the 'maximum change' in relative length it can induce when applied to a vector. If we consider:  \n",
    "\n",
    "$$\n",
    "\\| \\boldsymbol{A}  \\boldsymbol{x} \\| \\le C \\| \\boldsymbol{x}\\| \\quad \\forall \\boldsymbol{x} \\in \\mathbb{C}^{d},\n",
    "$$\n",
    "\n",
    "then the smallest possible $C$ is the norm of $\\boldsymbol{A}$. The norm of $\\boldsymbol{A}$ is denoted by $\\|\\boldsymbol{A}\\|$:\n",
    "\n",
    "$$\n",
    "\\| \\boldsymbol{A}  \\boldsymbol{x} \\| \\le \\| \\boldsymbol{A}\\| \\| \\boldsymbol{x}\\| \\quad \\forall \\boldsymbol{x} \\in \\mathbb{C}^{d},\n",
    "$$\n",
    "\n",
    "This can be rearranged to provide the usual definition of a matrix norm:\n",
    "\n",
    "$$\n",
    "\\| \\boldsymbol{A} \\| = \\max_{\\boldsymbol{x} \\in \\mathbb{C}^{n} \\backslash \\boldsymbol{0}}\n",
    "    \\frac{\\| \\boldsymbol{A} \\boldsymbol{x}\\|}{\\|\\boldsymbol{x}\\| }\n",
    "$$\n",
    "\n",
    "To compute actual norms of a matrix, we need to choose how we measure the length of a vector, i.e. which norm to use. If we choose the $l_{2}$-norm, then:\n",
    "\n",
    "$$\n",
    "\\| \\boldsymbol{A} \\|_{2} = \\max_{\\boldsymbol{x} \\in \\mathbb{C}^{n} \\backslash \\boldsymbol{0}}\n",
    "    \\frac{\\| \\boldsymbol{A} \\boldsymbol{x}\\|_{2}}{\\|\\boldsymbol{x}\\|_{2} }\n",
    "$$\n",
    "\n",
    "As discussed in the lectures, some norms are relatively inexpensive to compute for large matrices, and others are expensive. We can again use NumPy to compute some matrix norms. We first create a matrix filled with random numbers:"
   ]
  },
  {
   "cell_type": "code",
   "execution_count": 4,
   "metadata": {},
   "outputs": [
    {
     "name": "stdout",
     "output_type": "stream",
     "text": [
      "[[0.50524609+0.42754596j 0.0652865 +0.43674726j 0.42812233+0.77655918j\n",
      "  0.09653092+0.53560417j 0.12715997+0.95374223j]\n",
      " [0.59674531+0.54420816j 0.226012  +0.08209492j 0.10694568+0.3663424j\n",
      "  0.22030621+0.8508505j  0.34982629+0.40627504j]\n",
      " [0.46778748+0.02720237j 0.20174323+0.24717724j 0.64040673+0.06714437j\n",
      "  0.48306984+0.99385201j 0.50523672+0.97058031j]\n",
      " [0.38689265+0.80025835j 0.79363745+0.60181712j 0.58000418+0.76495986j\n",
      "  0.1622986 +0.16922545j 0.70075235+0.29302323j]\n",
      " [0.96455108+0.52406688j 0.50000836+0.35662428j 0.88952006+0.04567897j\n",
      "  0.34161365+0.98315345j 0.56714413+0.44135492j]]\n"
     ]
    }
   ],
   "source": [
    "A = np.random.rand(5, 5) + 1j*np.random.rand(5, 5)\n",
    "print(A)"
   ]
  },
  {
   "cell_type": "markdown",
   "metadata": {},
   "source": [
    "and then compute some norms:"
   ]
  },
  {
   "cell_type": "code",
   "execution_count": 5,
   "metadata": {},
   "outputs": [
    {
     "name": "stdout",
     "output_type": "stream",
     "text": [
      "The 1-norm of A is: 4.0707141285209385\n",
      "The 2-norm of A is: 3.5641387076264954\n",
      "The max-norm of A is: 4.362031308991134\n"
     ]
    }
   ],
   "source": [
    "print(\"The 1-norm of A is: {}\".format(np.linalg.norm(A, 1)))\n",
    "print(\"The 2-norm of A is: {}\".format(np.linalg.norm(A, 2)))\n",
    "print(\"The max-norm of A is: {}\".format(np.linalg.norm(A, np.inf)))"
   ]
  },
  {
   "cell_type": "markdown",
   "metadata": {},
   "source": [
    "### Vector-like norms"
   ]
  },
  {
   "cell_type": "markdown",
   "metadata": {},
   "source": [
    "It sometimes convenient to work with matrix norms that are similar to vector norms. A commonly used matrix norm is the Frobenius norm. It is analogous to the $l_{2}$ norm of a vector, and is defined by:\n",
    "\n",
    "$$\n",
    "\\|\\boldsymbol{A} \\|_{F} = \\left( \\sum_{i}\\sum_{i} a_{ij}^{2} \\right)^{1/2}.\n",
    "$$\n",
    "\n",
    "To compute the Frobenius norm:"
   ]
  }
 ],
 "metadata": {
  "kernelspec": {
   "display_name": "Python 3",
   "language": "python",
   "name": "python3"
  },
  "language_info": {
   "codemirror_mode": {
    "name": "ipython",
    "version": 3
   },
   "file_extension": ".py",
   "mimetype": "text/x-python",
   "name": "python",
   "nbconvert_exporter": "python",
   "pygments_lexer": "ipython3",
   "version": "3.6.8"
  }
 },
 "nbformat": 4,
 "nbformat_minor": 1
}
