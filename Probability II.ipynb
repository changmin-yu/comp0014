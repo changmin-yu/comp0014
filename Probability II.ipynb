{
 "cells": [
  {
   "cell_type": "code",
   "execution_count": 3,
   "metadata": {},
   "outputs": [],
   "source": [
    "import numpy as np\n",
    "import scipy.stats\n",
    "import matplotlib.pyplot as plt\n",
    "%matplotlib inline"
   ]
  },
  {
   "cell_type": "markdown",
   "metadata": {},
   "source": [
    "# Least-Squares Linear Regression"
   ]
  },
  {
   "cell_type": "markdown",
   "metadata": {},
   "source": [
    "Fit a straight line through the data cloud"
   ]
  },
  {
   "cell_type": "code",
   "execution_count": 6,
   "metadata": {},
   "outputs": [
    {
     "data": {
      "image/png": "[encoded data removed]",
      "text/plain": [
       "<Figure size 432x288 with 1 Axes>"
      ]
     },
     "metadata": {
      "needs_background": "light"
     },
     "output_type": "display_data"
    }
   ],
   "source": [
    "rng = np.random.RandomState(1234)\n",
    "mean = [100, 1000]\n",
    "cov = [[1, 0.9], [0.9, 1]]\n",
    "sample = rng.multivariate_normal(mean, cov, size=100)\n",
    "x, y = sample[:, 0], sample[:, 1]\n",
    "\n",
    "plt.scatter(x, y)\n",
    "plt.xlabel('x')\n",
    "plt.ylabel('y')\n",
    "plt.show()"
   ]
  },
  {
   "cell_type": "code",
   "execution_count": 7,
   "metadata": {},
   "outputs": [
    {
     "data": {
      "text/plain": [
       "array([[1.        , 0.86185213],\n",
       "       [0.86185213, 1.        ]])"
      ]
     },
     "execution_count": 7,
     "metadata": {},
     "output_type": "execute_result"
    }
   ],
   "source": [
    "np.corrcoef(np.vstack([x, y]))"
   ]
  },
  {
   "cell_type": "markdown",
   "metadata": {},
   "source": [
    "### 1. Least-squares linear regression via Maximum Likelihood Estimation"
   ]
  },
  {
   "cell_type": "markdown",
   "metadata": {},
   "source": [
    "- using MLE estimators:\n",
    "\n",
    "$w = \\frac{\\sigma_{x,y}}{\\sigma_{x}^{2}}$\n",
    "\n",
    "$b = \\bar{y} - w\\bar{x}$\n",
    "\n",
    "where \n",
    "\n",
    "\n",
    "$\\text{covariance: } \\sigma_{xy} = \\frac{1}{n} \\sum_{i=1}^{n} (x_i - \\bar{x})(y_i - \\bar{y})$\n",
    "\n",
    "$\\text{variance: } \\sigma^{2}_{x} = \\frac{1}{n} \\sum_{i=1}^{n} (x_i - \\bar{x})^2$"
   ]
  },
  {
   "cell_type": "markdown",
   "metadata": {},
   "source": [
    "**Optional exercise:** It is possible to derive the above estimators using maximum likelihood estimation. As an exercise, derive the above equations for w and b, using the following pieces of information:\n",
    "\n",
    "- y values can be expressed in terms of x values, plus an error: $Y = XW + \\varepsilon$ (or: $y = wx + b + \\varepsilon$)\n",
    "- Errors $\\varepsilon$ can be modeled as drawn i.i.d. (independent and identically distributed) from a normal distribution with mean zero. Or: $\\varepsilon \\sim \\mathcal{N}(0, \\sigma^2)$\n",
    "    - See [here](https://en.wikipedia.org/wiki/Normal_distribution) for the normal distribution's PDF.\n",
    "- Therefore, you can think of errors as being a *function* of the slope/intercept parameters (W = [w, b]): $\\varepsilon = Y - XW = y - wx - b$\n",
    "- The likelihood we are maximising is the probability of generating the set of errors $\\varepsilon$ given the parameters $\\theta = (w, b)$.\n",
    "- In this case (when using a normal distribution), working with the log-likelihood simplifies matters.\n",
    "- The definitions of variance and covariance will eventually be helpful here (see the Probability and Statistics I tutorial).\n",
    "\n",
    "This is a fairly lengthy derivation. If you like, you can skip it and just use the equations for w and b given above to fill out the following function:"
   ]
  },
  {
   "cell_type": "code",
   "execution_count": 1,
   "metadata": {},
   "outputs": [
    {
     "name": "stdout",
     "output_type": "stream",
     "text": [
      "slope: None\n",
      "y-intercept: None\n"
     ]
    }
   ],
   "source": [
    "# TODO: Implement Least square linear regression via MLE given the estimators\n",
    "# Note: You could use numpy functions if you wish (e.g. np.cov())\n",
    "w1 = None\n",
    "b1 = None\n",
    "\n",
    "print('slope: {}'.format(w1))\n",
    "print('y-intercept: {}'.format(b1))"
   ]
  },
  {
   "cell_type": "markdown",
   "metadata": {},
   "source": [
    "### 2. Least-squares linear regression via Ordinary Least Squares"
   ]
  },
  {
   "cell_type": "markdown",
   "metadata": {},
   "source": [
    "- closed-form (analytical) solution:\n",
    "\n",
    "$$w = (X^T X)^{-1} X^T y$$"
   ]
  },
  {
   "cell_type": "code",
   "execution_count": 9,
   "metadata": {},
   "outputs": [
    {
     "name": "stdout",
     "output_type": "stream",
     "text": [
      "slope: None\n",
      "y-intercept: None\n"
     ]
    }
   ],
   "source": [
    "# Implement Least-square linear regression via OLS estimation\n",
    "\n",
    "w2, b2 = None, None\n",
    "print('slope: {}'.format(w2))\n",
    "print('y-intercept: {}'.format(b2))"
   ]
  },
  {
   "cell_type": "markdown",
   "metadata": {},
   "source": [
    "### 3. Using a pre-implemented function"
   ]
  },
  {
   "cell_type": "code",
   "execution_count": 10,
   "metadata": {},
   "outputs": [
    {
     "name": "stdout",
     "output_type": "stream",
     "text": [
      "slope: None\n",
      "y-intercept: None\n"
     ]
    }
   ],
   "source": [
    "# Use numpy functions for fitting linear regression, e.g. np.polyfit()\n",
    "w3, b3 = None, None\n",
    "print('slope: {}'.format(w3))\n",
    "print('y-intercept: {}'.format(b3))"
   ]
  },
  {
   "cell_type": "markdown",
   "metadata": {},
   "source": [
    "- note that there are many alternative tools (sklearn, PyTorch...)"
   ]
  },
  {
   "cell_type": "markdown",
   "metadata": {},
   "source": [
    "### Show line fit"
   ]
  },
  {
   "cell_type": "code",
   "execution_count": 7,
   "metadata": {},
   "outputs": [
    {
     "data": {
      "image/png": "[encoded data removed]",
      "text/plain": [
       "<matplotlib.figure.Figure at 0x11326c320>"
      ]
     },
     "metadata": {},
     "output_type": "display_data"
    }
   ],
   "source": [
    "endpts = np.array([np.min(x), np.max(x)])\n",
    "predict1 = endpts*w1 + b1\n",
    "predict2 = endpts*w2 + b2\n",
    "predict3 = endpts*w3 + b3\n",
    "\n",
    "\n",
    "plt.plot(x, y, marker='o', linestyle='')\n",
    "plt.plot(endpts, predict1, color='r')\n",
    "plt.plot(endpts, predict2, color='g')\n",
    "plt.plot(endpts, predict3, color='b')\n",
    "plt.xlabel('x')\n",
    "plt.ylabel('y')\n",
    "plt.show()"
   ]
  },
  {
   "cell_type": "markdown",
   "metadata": {},
   "source": [
    "### Evaluate"
   ]
  },
  {
   "cell_type": "markdown",
   "metadata": {},
   "source": [
    "#### Mean squared error (MSE)"
   ]
  },
  {
   "cell_type": "markdown",
   "metadata": {},
   "source": [
    "$$MSE = \\frac{1}{n} \\sum_{i=1}^{n} \\big(y_i - \\hat{y_i}\\big)^2$$"
   ]
  },
  {
   "cell_type": "markdown",
   "metadata": {},
   "source": [
    "- note that MSE is scale-dependent"
   ]
  },
  {
   "cell_type": "code",
   "execution_count": 11,
   "metadata": {},
   "outputs": [],
   "source": [
    "# TODO: compute the MSE for all three models"
   ]
  },
  {
   "cell_type": "markdown",
   "metadata": {},
   "source": [
    "#### Residuals"
   ]
  },
  {
   "cell_type": "markdown",
   "metadata": {},
   "source": [
    "\\begin{equation}\n",
    "\\epsilon = Y - \\hat{Y}\n",
    "\\end{equation}"
   ]
  },
  {
   "cell_type": "code",
   "execution_count": 13,
   "metadata": {},
   "outputs": [],
   "source": [
    "# TODO: plot the residuals for the three models with respect to the true data"
   ]
  },
  {
   "cell_type": "markdown",
   "metadata": {},
   "source": [
    "Note that many more statistics can be used to quantify the performance of the models, e.g. Coefficient of determination ($R^2$) (https://en.wikipedia.org/wiki/Coefficient_of_determination)"
   ]
  }
 ],
 "metadata": {
  "kernelspec": {
   "display_name": "Python 3",
   "language": "python",
   "name": "python3"
  },
  "language_info": {
   "codemirror_mode": {
    "name": "ipython",
    "version": 3
   },
   "file_extension": ".py",
   "mimetype": "text/x-python",
   "name": "python",
   "nbconvert_exporter": "python",
   "pygments_lexer": "ipython3",
   "version": "3.6.5"
  }
 },
 "nbformat": 4,
 "nbformat_minor": 2
}
